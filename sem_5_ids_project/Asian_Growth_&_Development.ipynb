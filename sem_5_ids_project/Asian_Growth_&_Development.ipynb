{
 "cells": [
  {
   "cell_type": "markdown",
   "metadata": {},
   "source": [
    "# Growth and Challenges\n",
    "### A Deep Dive into South Asian Development"
   ]
  },
  {
   "cell_type": "markdown",
   "metadata": {},
   "source": [
    "# EDA "
   ]
  },
  {
   "cell_type": "code",
   "execution_count": 2,
   "metadata": {},
   "outputs": [],
   "source": [
    "import pandas as pd\n",
    "import numpy as np\n",
    "import seaborn as sns\n",
    "import matplotlib.pyplot as plt\n"
   ]
  },
  {
   "cell_type": "markdown",
   "metadata": {},
   "source": [
    "#### Connect to file"
   ]
  },
  {
   "cell_type": "code",
   "execution_count": null,
   "metadata": {},
   "outputs": [],
   "source": [
    "\n",
    "data=pd.read_csv('archive/South_Asian_dataset.csv')\n",
    "data.head()"
   ]
  },
  {
   "cell_type": "code",
   "execution_count": null,
   "metadata": {},
   "outputs": [],
   "source": [
    "data.info()"
   ]
  },
  {
   "cell_type": "code",
   "execution_count": null,
   "metadata": {},
   "outputs": [],
   "source": [
    "data = data.drop(columns=['Unnamed: 10', 'Unnamed: 11', 'Unnamed: 12'])\n"
   ]
  },
  {
   "cell_type": "code",
   "execution_count": 4,
   "metadata": {},
   "outputs": [],
   "source": [
    "data['GDP (current US$)'] = data['GDP (current US$)'].str.replace(',', '.').astype(float)"
   ]
  },
  {
   "cell_type": "code",
   "execution_count": null,
   "metadata": {},
   "outputs": [],
   "source": [
    "print(data['GDP (current US$)'].head()) \n",
    "print(data['GDP (current US$)'].dtype)"
   ]
  },
  {
   "cell_type": "code",
   "execution_count": 6,
   "metadata": {},
   "outputs": [],
   "source": [
    "# Strip whitespace and convert to title case\n",
    "data['Country'] = data['Country'].str.strip().str.title()\n"
   ]
  },
  {
   "cell_type": "code",
   "execution_count": null,
   "metadata": {},
   "outputs": [],
   "source": [
    "print(data['Country'].nunique())  # Check the number of unique countries\n",
    "print(data['Country'].unique())  # Inspect unique country names\n"
   ]
  },
  {
   "cell_type": "code",
   "execution_count": null,
   "metadata": {},
   "outputs": [],
   "source": [
    "# Convert to integer if not already\n",
    "data['Year'] = data['Year'].astype(int)\n",
    "\n",
    "# Check range of years\n",
    "print(data['Year'].min(), data['Year'].max())\n",
    "\n",
    "# Sort by year if necessary\n",
    "data = data.sort_values(by='Year')\n"
   ]
  },
  {
   "cell_type": "code",
   "execution_count": null,
   "metadata": {},
   "outputs": [],
   "source": [
    "# Fill missing values with the mean or median:\n",
    "# python\n",
    "# Copy code\n",
    "\n",
    "data['GDP growth (annual %)'] = data['GDP growth (annual %)'].fillna(data['GDP growth (annual %)'].mean())\n"
   ]
  },
  {
   "cell_type": "code",
   "execution_count": null,
   "metadata": {},
   "outputs": [],
   "source": [
    "print(data.isnull().sum())\n"
   ]
  },
  {
   "cell_type": "code",
   "execution_count": null,
   "metadata": {},
   "outputs": [],
   "source": [
    "data.info()"
   ]
  },
  {
   "cell_type": "code",
   "execution_count": null,
   "metadata": {},
   "outputs": [],
   "source": [
    "data.head()"
   ]
  },
  {
   "cell_type": "markdown",
   "metadata": {},
   "source": [
    "## demography of each country\n"
   ]
  },
  {
   "cell_type": "code",
   "execution_count": null,
   "metadata": {},
   "outputs": [],
   "source": [
    "import matplotlib.pyplot as plt\n",
    "\n",
    "# Filter the dataset for Pakistan\n",
    "pakistan_data = data[(data['Country'] == 'Pakistan') & (data['Year'].between(2000, 2023))]\n",
    "\n",
    "# Plot the population for Pakistan\n",
    "plt.figure(figsize=(10, 6))\n",
    "plt.plot(pakistan_data['Year'], pakistan_data['Population, total'], marker='o', label='Pakistan')\n",
    "\n",
    "# Add labels and title\n",
    "plt.title(\"Population of Pakistan (2000-2023)\")\n",
    "plt.xlabel(\"Year\")\n",
    "plt.ylabel(\"Population\")\n",
    "plt.grid()\n",
    "plt.legend()\n",
    "plt.show()\n"
   ]
  },
  {
   "cell_type": "code",
   "execution_count": null,
   "metadata": {},
   "outputs": [],
   "source": [
    "# Filter the dataset for Nepal\n",
    "nepal_data = data[(data['Country'] == 'Nepal') & (data['Year'].between(2000, 2023))]\n",
    "\n",
    "# Plot the population for Nepal\n",
    "plt.figure(figsize=(10, 6))\n",
    "plt.plot(nepal_data['Year'], nepal_data['Population, total'], marker='o', label='Nepal')\n",
    "\n",
    "# Add labels and title\n",
    "plt.title(\"Population of Nepal (2000-2023)\")\n",
    "plt.xlabel(\"Year\")\n",
    "plt.ylabel(\"Population\")\n",
    "plt.grid()\n",
    "plt.legend()\n",
    "plt.show()\n"
   ]
  },
  {
   "cell_type": "code",
   "execution_count": null,
   "metadata": {},
   "outputs": [],
   "source": [
    "\n",
    "nepal_data = data[(data['Country'] == 'India') & (data['Year'].between(2000, 2023))]\n",
    "\n",
    "# Plot the population for india\n",
    "plt.figure(figsize=(10, 6))\n",
    "plt.plot(nepal_data['Year'], nepal_data['Population, total'], marker='o', label='india')\n",
    "\n",
    "# Add labels and title\n",
    "plt.title(\"Population of India (2000-2023)\")\n",
    "plt.xlabel(\"Year\")\n",
    "plt.ylabel(\"Population\")\n",
    "plt.grid()\n",
    "plt.legend()\n",
    "plt.show()\n"
   ]
  },
  {
   "cell_type": "code",
   "execution_count": null,
   "metadata": {},
   "outputs": [],
   "source": [
    "\n",
    "nepal_data = data[(data['Country'] == 'Sri Lanka') & (data['Year'].between(2000, 2023))]\n",
    "\n",
    "# Plot the population for Sri Lanka\n",
    "plt.figure(figsize=(10, 6))\n",
    "plt.plot(nepal_data['Year'], nepal_data['Population, total'], marker='o', label='Sri Lanka')\n",
    "\n",
    "# Add labels and title\n",
    "plt.title(\"Population of Sri Lanka (2000-2023)\")\n",
    "plt.xlabel(\"Year\")\n",
    "plt.ylabel(\"Population\")\n",
    "plt.grid()\n",
    "plt.legend()\n",
    "plt.show()\n"
   ]
  },
  {
   "cell_type": "code",
   "execution_count": null,
   "metadata": {},
   "outputs": [],
   "source": [
    "\n",
    "nepal_data = data[(data['Country'] == 'Bangladesh') & (data['Year'].between(2000, 2023))]\n",
    "\n",
    "plt.figure(figsize=(10, 6))\n",
    "plt.plot(nepal_data['Year'], nepal_data['Population, total'], marker='o', label='Bangladesh')\n",
    "\n",
    "# Add labels and title\n",
    "plt.title(\"Population of Bangladesh (2000-2023)\")\n",
    "plt.xlabel(\"Year\")\n",
    "plt.ylabel(\"Population\")\n",
    "plt.grid()\n",
    "plt.legend()\n",
    "plt.show()\n"
   ]
  },
  {
   "cell_type": "code",
   "execution_count": null,
   "metadata": {},
   "outputs": [],
   "source": [
    "nepal_data = data[(data['Country'] == 'Afghanistan') & (data['Year'].between(2000, 2023))]\n",
    "\n",
    "plt.figure(figsize=(10, 6))\n",
    "plt.plot(nepal_data['Year'], nepal_data['Population, total'], marker='o', label='Afghanistan')\n",
    "\n",
    "plt.title(\"Population of Afghanistan (2000-2023)\")\n",
    "plt.xlabel(\"Year\")\n",
    "plt.ylabel(\"Population\")\n",
    "plt.grid()\n",
    "plt.legend()\n",
    "plt.show()\n"
   ]
  },
  {
   "cell_type": "code",
   "execution_count": null,
   "metadata": {},
   "outputs": [],
   "source": [
    "nepal_data = data[(data['Country'] == 'Bhutan') & (data['Year'].between(2000, 2023))]\n",
    "\n",
    "plt.figure(figsize=(10, 6))\n",
    "plt.plot(nepal_data['Year'], nepal_data['Population, total'], marker='o', label='Bhutan')\n",
    "\n",
    "plt.title(\"Population of Bhutan (2000-2023)\")\n",
    "plt.xlabel(\"Year\")\n",
    "plt.ylabel(\"Population\")\n",
    "plt.grid()\n",
    "plt.legend()\n",
    "plt.show()\n"
   ]
  },
  {
   "cell_type": "code",
   "execution_count": 11,
   "metadata": {},
   "outputs": [],
   "source": [
    "filtered_data = data[data['Year'].between(2000, 2023)][['Country', 'Year', 'GDP (current US$)', 'GDP growth (annual %)',\n",
    "       'GDP per capita (current US$)',\n",
    "       'Unemployment, total (% of total labor force) (modeled ILO estimate)',\n",
    "       'Population, total', 'Population growth (annual %)',\n",
    "       'Life expectancy at birth, total (years)',\n",
    "       'Mortality rate, infant (per 1,000 live births)']]\n"
   ]
  },
  {
   "cell_type": "markdown",
   "metadata": {},
   "source": [
    "## population in five years span"
   ]
  },
  {
   "cell_type": "code",
   "execution_count": null,
   "metadata": {},
   "outputs": [],
   "source": [
    "import pandas as pd\n",
    "import matplotlib.pyplot as plt\n",
    "\n",
    "# Correct column name for unemployment\n",
    "pop_column = 'Population, total'\n",
    "\n",
    "# Create 5-year intervals\n",
    "filtered_data['Interval'] = pd.cut(\n",
    "    filtered_data['Year'],\n",
    "    bins=[2000, 2005, 2010, 2015, 2020, 2023],  # Adjust bins as needed\n",
    "    labels=['2000-2005', '2006-2010', '2011-2015', '2016-2020', '2021-2023'],\n",
    "    right=True\n",
    ")\n",
    "\n",
    "# Threshold for outlier exclusion (e.g., max reasonable unemployment rate)\n",
    "outlier_threshold = 20\n",
    "\n",
    "# Replace outliers in Pakistan's unemployment data with NaN\n",
    "filtered_data.loc[\n",
    "    (filtered_data['Country'] == 'Pakistan') & \n",
    "    (filtered_data[pop_column] > outlier_threshold), \n",
    "    pop_column\n",
    "] = None\n",
    "\n",
    "avg_pop = filtered_data.groupby(['Country', 'Interval'])[pop_column].mean().reset_index()\n",
    "\n",
    "pivot_data = avg_pop.pivot(index='Interval', columns='Country', values=pop_column)\n",
    "\n",
    "pivot_data.plot(kind='bar', figsize=(12, 8), width=0.8)\n",
    "plt.title('population (2000-2023)', fontsize=14)\n",
    "plt.xlabel('Interval', fontsize=12)\n",
    "plt.ylabel('population avergae', fontsize=12)\n",
    "plt.legend(title='Country', bbox_to_anchor=(1.05, 1), loc='upper left')\n",
    "plt.xticks(rotation=0)\n",
    "plt.tight_layout()\n",
    "plt.show()\n"
   ]
  },
  {
   "cell_type": "markdown",
   "metadata": {},
   "source": [
    "## unemployement"
   ]
  },
  {
   "cell_type": "code",
   "execution_count": null,
   "metadata": {},
   "outputs": [],
   "source": [
    "import pandas as pd\n",
    "import matplotlib.pyplot as plt\n",
    "\n",
    "# Correct column name for unemployment\n",
    "unemployment_column = 'Unemployment, total (% of total labor force) (modeled ILO estimate)'\n",
    "\n",
    "# Create 5-year intervals\n",
    "filtered_data['Interval'] = pd.cut(\n",
    "    filtered_data['Year'],\n",
    "    bins=[2000, 2005, 2010, 2015, 2020, 2023],  # Adjust bins as needed\n",
    "    labels=['2000-2005', '2006-2010', '2011-2015', '2016-2020', '2021-2023'],\n",
    "    right=True\n",
    ")\n",
    "\n",
    "# Threshold for outlier exclusion (e.g., max reasonable unemployment rate)\n",
    "outlier_threshold = 20\n",
    "\n",
    "# Replace outliers in Pakistan's unemployment data with NaN\n",
    "filtered_data.loc[\n",
    "    (filtered_data['Country'] == 'Pakistan') & \n",
    "    (filtered_data[unemployment_column] > outlier_threshold), \n",
    "    unemployment_column\n",
    "] = None\n",
    "\n",
    "# Recalculate average unemployment rates for each 5-year interval\n",
    "avg_unemployment = filtered_data.groupby(['Country', 'Interval'])[unemployment_column].mean().reset_index()\n",
    "\n",
    "# Pivot data for visualization\n",
    "pivot_data = avg_unemployment.pivot(index='Interval', columns='Country', values=unemployment_column)\n",
    "\n",
    "# Plot the data\n",
    "pivot_data.plot(kind='bar', figsize=(12, 8), width=0.8)\n",
    "plt.title('Average Unemployment Rate (2000-2023)', fontsize=14)\n",
    "plt.xlabel('Interval', fontsize=12)\n",
    "plt.ylabel('Average Unemployment Rate (%)', fontsize=12)\n",
    "plt.legend(title='Country', bbox_to_anchor=(1.05, 1), loc='upper left')\n",
    "plt.xticks(rotation=0)\n",
    "plt.tight_layout()\n",
    "plt.show()\n"
   ]
  },
  {
   "cell_type": "markdown",
   "metadata": {},
   "source": [
    "## mortality rate"
   ]
  },
  {
   "cell_type": "code",
   "execution_count": null,
   "metadata": {},
   "outputs": [],
   "source": [
    "import pandas as pd\n",
    "import matplotlib.pyplot as plt\n",
    "\n",
    "# Correct column name for mortality rate\n",
    "mortality_column = 'Mortality rate, infant (per 1,000 live births)'\n",
    "\n",
    "# Create 5-year intervals\n",
    "filtered_data['Interval'] = pd.cut(\n",
    "    filtered_data['Year'],\n",
    "    bins=[2000, 2005, 2010, 2015, 2020, 2023],  # Adjust bins as needed\n",
    "    labels=['2000-2005', '2006-2010', '2011-2015', '2016-2020', '2021-2023'],\n",
    "    right=True\n",
    ")\n",
    "\n",
    "# Threshold for outlier exclusion (e.g., max reasonable mortality rate)\n",
    "outlier_threshold = 100  # Adjust threshold as appropriate for mortality rates\n",
    "\n",
    "# Replace outliers in Pakistan's mortality rate data with NaN\n",
    "filtered_data.loc[\n",
    "    (filtered_data['Country'] == 'Pakistan') & \n",
    "    (filtered_data[mortality_column] > outlier_threshold), \n",
    "    mortality_column\n",
    "] = None\n",
    "\n",
    "# Recalculate average mortality rates for each 5-year interval\n",
    "avg_mortality = filtered_data.groupby(['Country', 'Interval'])[mortality_column].mean().reset_index()\n",
    "\n",
    "# Pivot data for visualization\n",
    "pivot_data = avg_mortality.pivot(index='Interval', columns='Country', values=mortality_column)\n",
    "\n",
    "# Plot the data\n",
    "pivot_data.plot(kind='bar', figsize=(12, 8), width=0.8)\n",
    "plt.title('Average Infant Mortality Rate (2000-2023)', fontsize=14)\n",
    "plt.xlabel('Interval', fontsize=12)\n",
    "plt.ylabel('Average Infant Mortality Rate (per 1,000 live births)', fontsize=12)\n",
    "plt.legend(title='Country', bbox_to_anchor=(1.05, 1), loc='upper left')\n",
    "plt.xticks(rotation=0)\n",
    "plt.tight_layout()\n",
    "plt.show()\n"
   ]
  },
  {
   "cell_type": "code",
   "execution_count": null,
   "metadata": {},
   "outputs": [],
   "source": [
    "import pandas as pd\n",
    "import matplotlib.pyplot as plt\n",
    "\n",
    "life_column = 'Life expectancy at birth, total (years)'\n",
    "\n",
    "# Create 5-year intervals\n",
    "filtered_data['Interval'] = pd.cut(\n",
    "    filtered_data['Year'],\n",
    "    bins=[2000, 2005, 2010, 2015, 2020, 2023],  # Adjust bins as needed\n",
    "    labels=['2000-2005', '2006-2010', '2011-2015', '2016-2020', '2021-2023'],\n",
    "    right=True\n",
    ")\n",
    "\n",
    "outlier_threshold = 20\n",
    "\n",
    "filtered_data.loc[\n",
    "    (filtered_data['Country'] == 'Pakistan') & \n",
    "    (filtered_data[life_column] > outlier_threshold), \n",
    "    life_column\n",
    "] = None\n",
    "\n",
    "avg_pop = filtered_data.groupby(['Country', 'Interval'])[life_column].mean().reset_index()\n",
    "\n",
    "pivot_data = avg_pop.pivot(index='Interval', columns='Country', values=life_column)\n",
    "\n",
    "pivot_data.plot(kind='bar', figsize=(12, 8), width=0.8)\n",
    "plt.title('gdp (2000-2023)', fontsize=14)\n",
    "plt.xlabel('Interval', fontsize=12)\n",
    "plt.ylabel(' life expectancy  avergae', fontsize=12)\n",
    "plt.legend(title='Country', bbox_to_anchor=(1.05, 1), loc='upper left')\n",
    "plt.xticks(rotation=0)\n",
    "plt.tight_layout()\n",
    "plt.show()\n"
   ]
  },
  {
   "cell_type": "markdown",
   "metadata": {},
   "source": [
    "## machine learning model"
   ]
  },
  {
   "cell_type": "code",
   "execution_count": 24,
   "metadata": {},
   "outputs": [
    {
     "name": "stdout",
     "output_type": "stream",
     "text": [
      "Mean Squared Error: 3.8378091424329907e+36\n",
      "R² Score: 0.8894087050485993\n",
      "Predicted GDP: $31,588,573,391.94\n"
     ]
    }
   ],
   "source": [
    "import pandas as pd\n",
    "from sklearn.model_selection import train_test_split\n",
    "from sklearn.ensemble import RandomForestRegressor\n",
    "from sklearn.metrics import mean_squared_error, r2_score\n",
    "import numpy as np\n",
    "\n",
    "# Load the dataset\n",
    "df = pd.read_csv('archive/South_Asian_dataset.csv')\n",
    "\n",
    "# Select relevant columns\n",
    "df = df[['GDP (current US$)', 'Population, total', \n",
    "         'Mortality rate, infant (per 1,000 live births)', \n",
    "         'Life expectancy at birth, total (years)']]\n",
    "\n",
    "# Drop missing values\n",
    "df = df.dropna()\n",
    "\n",
    "# Clean the GDP column\n",
    "df['GDP (current US$)'] = (\n",
    "    df['GDP (current US$)']\n",
    "    .replace(',', '', regex=True)  # Remove commas\n",
    "    .astype(str)                   # Ensure it's a string for further processing\n",
    "    .str.replace('E', 'e', regex=False)  # Normalize scientific notation\n",
    "    .astype(float)                 # Convert to float\n",
    ")\n",
    "\n",
    "# Define features and target\n",
    "features = ['Population, total', \n",
    "            'Mortality rate, infant (per 1,000 live births)', \n",
    "            'Life expectancy at birth, total (years)']\n",
    "target = 'GDP (current US$)'\n",
    "\n",
    "X = df[features]\n",
    "y = df[target]\n",
    "\n",
    "# Split the data into training and testing sets\n",
    "X_train, X_test, y_train, y_test = train_test_split(X, y, test_size=0.2, random_state=42)\n",
    "\n",
    "# Train the model\n",
    "model = RandomForestRegressor(random_state=42)\n",
    "model.fit(X_train, y_train)\n",
    "\n",
    "# Evaluate the model\n",
    "y_pred = model.predict(X_test)\n",
    "mse = mean_squared_error(y_test, y_pred)\n",
    "r2 = r2_score(y_test, y_pred)\n",
    "\n",
    "print(f\"Mean Squared Error: {mse}\")\n",
    "print(f\"R² Score: {r2}\")\n",
    "\n",
    "# Predict GDP for a new input\n",
    "new_data = pd.DataFrame({\n",
    "    'Population, total': [25000000],  # Example population\n",
    "    'Mortality rate, infant (per 1,000 live births)': [25],  # Example mortality rate\n",
    "    'Life expectancy at birth, total (years)': [72]  # Example life expectancy\n",
    "})\n",
    "\n",
    "predicted_gdp = model.predict(new_data)\n",
    "print(f\"Predicted GDP: ${predicted_gdp[0]:,.2f}\")\n"
   ]
  },
  {
   "cell_type": "code",
   "execution_count": 64,
   "metadata": {},
   "outputs": [
    {
     "name": "stdout",
     "output_type": "stream",
     "text": [
      "Index(['Country', 'Year', 'GDP (current US$)', 'GDP growth (annual %)',\n",
      "       'GDP per capita (current US$)',\n",
      "       'Unemployment, total (% of total labor force) (modeled ILO estimate)',\n",
      "       'Population, total', 'Population growth (annual %)',\n",
      "       'Life expectancy at birth, total (years)',\n",
      "       'Mortality rate, infant (per 1,000 live births)', 'Unnamed: 10',\n",
      "       'Unnamed: 11'],\n",
      "      dtype='object')\n"
     ]
    }
   ],
   "source": [
    "print(data.columns)\n"
   ]
  },
  {
   "cell_type": "code",
   "execution_count": 66,
   "metadata": {},
   "outputs": [
    {
     "name": "stdout",
     "output_type": "stream",
     "text": [
      "Index(['Country', 'Year', 'GDP (current US$)', 'GDP growth (annual %)',\n",
      "       'GDP per capita (current US$)',\n",
      "       'Unemployment, total (% of total labor force) (modeled ILO estimate)',\n",
      "       'Population, total', 'Population growth (annual %)',\n",
      "       'Life expectancy at birth, total (years)',\n",
      "       'Mortality rate, infant (per 1,000 live births)'],\n",
      "      dtype='object')\n"
     ]
    }
   ],
   "source": [
    "print(filtered_data.columns)\n"
   ]
  }
 ],
 "metadata": {
  "kernelspec": {
   "display_name": "Python 3",
   "language": "python",
   "name": "python3"
  },
  "language_info": {
   "codemirror_mode": {
    "name": "ipython",
    "version": 3
   },
   "file_extension": ".py",
   "mimetype": "text/x-python",
   "name": "python",
   "nbconvert_exporter": "python",
   "pygments_lexer": "ipython3",
   "version": "3.13.0"
  }
 },
 "nbformat": 4,
 "nbformat_minor": 2
}
