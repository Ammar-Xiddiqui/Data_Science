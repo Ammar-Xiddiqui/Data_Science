{
 "cells": [
  {
   "cell_type": "markdown",
   "metadata": {},
   "source": [
    "# Growth and Challenges\n",
    "### A Deep Dive into South Asian Development"
   ]
  },
  {
   "cell_type": "markdown",
   "metadata": {},
   "source": [
    "# EDA "
   ]
  },
  {
   "cell_type": "code",
   "execution_count": 37,
   "metadata": {},
   "outputs": [],
   "source": [
    "import pandas as pd\n",
    "import numpy as np\n",
    "import seaborn as sns\n",
    "import matplotlib.pyplot as plt\n"
   ]
  },
  {
   "cell_type": "markdown",
   "metadata": {},
   "source": [
    "#### Connect to file"
   ]
  },
  {
   "cell_type": "code",
   "execution_count": null,
   "metadata": {},
   "outputs": [],
   "source": [
    "\n",
    "data=pd.read_csv('archive/South_Asian_dataset.csv')\n",
    "data.head()"
   ]
  },
  {
   "cell_type": "code",
   "execution_count": null,
   "metadata": {},
   "outputs": [],
   "source": [
    "data.info()"
   ]
  },
  {
   "cell_type": "code",
   "execution_count": null,
   "metadata": {},
   "outputs": [],
   "source": [
    "data = data.drop(columns=['Unnamed: 10', 'Unnamed: 11', 'Unnamed: 12'])\n"
   ]
  },
  {
   "cell_type": "code",
   "execution_count": 4,
   "metadata": {},
   "outputs": [],
   "source": [
    "data['GDP (current US$)'] = data['GDP (current US$)'].str.replace(',', '.').astype(float)"
   ]
  },
  {
   "cell_type": "code",
   "execution_count": null,
   "metadata": {},
   "outputs": [],
   "source": [
    "print(data['GDP (current US$)'].head()) \n",
    "print(data['GDP (current US$)'].dtype)"
   ]
  },
  {
   "cell_type": "code",
   "execution_count": 6,
   "metadata": {},
   "outputs": [],
   "source": [
    "# Strip whitespace and convert to title case\n",
    "data['Country'] = data['Country'].str.strip().str.title()\n"
   ]
  },
  {
   "cell_type": "code",
   "execution_count": null,
   "metadata": {},
   "outputs": [],
   "source": [
    "print(data['Country'].nunique())  # Check the number of unique countries\n",
    "print(data['Country'].unique())  # Inspect unique country names\n"
   ]
  },
  {
   "cell_type": "code",
   "execution_count": null,
   "metadata": {},
   "outputs": [],
   "source": [
    "# Convert to integer if not already\n",
    "data['Year'] = data['Year'].astype(int)\n",
    "\n",
    "# Check range of years\n",
    "print(data['Year'].min(), data['Year'].max())\n",
    "\n",
    "# Sort by year if necessary\n",
    "data = data.sort_values(by='Year')\n"
   ]
  },
  {
   "cell_type": "code",
   "execution_count": null,
   "metadata": {},
   "outputs": [],
   "source": [
    "import numpy as np\n",
    "q1 = data['GDP (current US$)'].quantile(0.25)\n",
    "q3 = data['GDP (current US$)'].quantile(0.75)\n",
    "iqr = q3 - q1\n",
    "lower_bound = q1 - 1.5 * iqr\n",
    "upper_bound = q3 + 1.5 * iqr\n",
    "\n",
    "# Filter for outliers\n",
    "outliers = data[(data['GDP (current US$)'] < lower_bound) | (data['GDP (current US$)'] > upper_bound)]\n",
    "print(outliers)\n"
   ]
  },
  {
   "cell_type": "code",
   "execution_count": null,
   "metadata": {},
   "outputs": [],
   "source": [
    "# Fill missing values with the mean or median:\n",
    "# python\n",
    "# Copy code\n",
    "\n",
    "data['GDP growth (annual %)'] = data['GDP growth (annual %)'].fillna(data['GDP growth (annual %)'].mean())\n"
   ]
  },
  {
   "cell_type": "code",
   "execution_count": null,
   "metadata": {},
   "outputs": [],
   "source": [
    "print(data.isnull().sum())\n"
   ]
  },
  {
   "cell_type": "code",
   "execution_count": null,
   "metadata": {},
   "outputs": [],
   "source": [
    "data.info()"
   ]
  },
  {
   "cell_type": "code",
   "execution_count": null,
   "metadata": {},
   "outputs": [],
   "source": [
    "data.head()"
   ]
  },
  {
   "cell_type": "markdown",
   "metadata": {},
   "source": [
    "## demography of each country\n"
   ]
  },
  {
   "cell_type": "code",
   "execution_count": null,
   "metadata": {},
   "outputs": [],
   "source": [
    "import matplotlib.pyplot as plt\n",
    "\n",
    "# Filter the dataset for Pakistan\n",
    "pakistan_data = data[(data['Country'] == 'Pakistan') & (data['Year'].between(2000, 2023))]\n",
    "\n",
    "# Plot the population for Pakistan\n",
    "plt.figure(figsize=(10, 6))\n",
    "plt.plot(pakistan_data['Year'], pakistan_data['Population, total'], marker='o', label='Pakistan')\n",
    "\n",
    "# Add labels and title\n",
    "plt.title(\"Population of Pakistan (2000-2023)\")\n",
    "plt.xlabel(\"Year\")\n",
    "plt.ylabel(\"Population\")\n",
    "plt.grid()\n",
    "plt.legend()\n",
    "plt.show()\n"
   ]
  },
  {
   "cell_type": "code",
   "execution_count": null,
   "metadata": {},
   "outputs": [],
   "source": [
    "# Filter the dataset for Nepal\n",
    "nepal_data = data[(data['Country'] == 'Nepal') & (data['Year'].between(2000, 2023))]\n",
    "\n",
    "# Plot the population for Nepal\n",
    "plt.figure(figsize=(10, 6))\n",
    "plt.plot(nepal_data['Year'], nepal_data['Population, total'], marker='o', label='Nepal')\n",
    "\n",
    "# Add labels and title\n",
    "plt.title(\"Population of Nepal (2000-2023)\")\n",
    "plt.xlabel(\"Year\")\n",
    "plt.ylabel(\"Population\")\n",
    "plt.grid()\n",
    "plt.legend()\n",
    "plt.show()\n"
   ]
  },
  {
   "cell_type": "code",
   "execution_count": null,
   "metadata": {},
   "outputs": [],
   "source": [
    "\n",
    "nepal_data = data[(data['Country'] == 'India') & (data['Year'].between(2000, 2023))]\n",
    "\n",
    "# Plot the population for india\n",
    "plt.figure(figsize=(10, 6))\n",
    "plt.plot(nepal_data['Year'], nepal_data['Population, total'], marker='o', label='india')\n",
    "\n",
    "# Add labels and title\n",
    "plt.title(\"Population of India (2000-2023)\")\n",
    "plt.xlabel(\"Year\")\n",
    "plt.ylabel(\"Population\")\n",
    "plt.grid()\n",
    "plt.legend()\n",
    "plt.show()\n"
   ]
  },
  {
   "cell_type": "code",
   "execution_count": null,
   "metadata": {},
   "outputs": [],
   "source": [
    "\n",
    "nepal_data = data[(data['Country'] == 'Sri Lanka') & (data['Year'].between(2000, 2023))]\n",
    "\n",
    "# Plot the population for Sri Lanka\n",
    "plt.figure(figsize=(10, 6))\n",
    "plt.plot(nepal_data['Year'], nepal_data['Population, total'], marker='o', label='Sri Lanka')\n",
    "\n",
    "# Add labels and title\n",
    "plt.title(\"Population of Sri Lanka (2000-2023)\")\n",
    "plt.xlabel(\"Year\")\n",
    "plt.ylabel(\"Population\")\n",
    "plt.grid()\n",
    "plt.legend()\n",
    "plt.show()\n"
   ]
  },
  {
   "cell_type": "code",
   "execution_count": null,
   "metadata": {},
   "outputs": [],
   "source": [
    "\n",
    "nepal_data = data[(data['Country'] == 'Bangladesh') & (data['Year'].between(2000, 2023))]\n",
    "\n",
    "plt.figure(figsize=(10, 6))\n",
    "plt.plot(nepal_data['Year'], nepal_data['Population, total'], marker='o', label='Bangladesh')\n",
    "\n",
    "# Add labels and title\n",
    "plt.title(\"Population of Bangladesh (2000-2023)\")\n",
    "plt.xlabel(\"Year\")\n",
    "plt.ylabel(\"Population\")\n",
    "plt.grid()\n",
    "plt.legend()\n",
    "plt.show()\n"
   ]
  },
  {
   "cell_type": "code",
   "execution_count": null,
   "metadata": {},
   "outputs": [],
   "source": [
    "nepal_data = data[(data['Country'] == 'Afghanistan') & (data['Year'].between(2000, 2023))]\n",
    "\n",
    "plt.figure(figsize=(10, 6))\n",
    "plt.plot(nepal_data['Year'], nepal_data['Population, total'], marker='o', label='Afghanistan')\n",
    "\n",
    "plt.title(\"Population of Afghanistan (2000-2023)\")\n",
    "plt.xlabel(\"Year\")\n",
    "plt.ylabel(\"Population\")\n",
    "plt.grid()\n",
    "plt.legend()\n",
    "plt.show()\n"
   ]
  },
  {
   "cell_type": "code",
   "execution_count": null,
   "metadata": {},
   "outputs": [],
   "source": [
    "nepal_data = data[(data['Country'] == 'Bhutan') & (data['Year'].between(2000, 2023))]\n",
    "\n",
    "plt.figure(figsize=(10, 6))\n",
    "plt.plot(nepal_data['Year'], nepal_data['Population, total'], marker='o', label='Bhutan')\n",
    "\n",
    "plt.title(\"Population of Bhutan (2000-2023)\")\n",
    "plt.xlabel(\"Year\")\n",
    "plt.ylabel(\"Population\")\n",
    "plt.grid()\n",
    "plt.legend()\n",
    "plt.show()\n"
   ]
  },
  {
   "cell_type": "code",
   "execution_count": 73,
   "metadata": {},
   "outputs": [],
   "source": [
    "filtered_data = data[data['Year'].between(2000, 2023)][['Country', 'Year', 'GDP (current US$)', 'GDP growth (annual %)',\n",
    "       'GDP per capita (current US$)',\n",
    "       'Unemployment, total (% of total labor force) (modeled ILO estimate)',\n",
    "       'Population, total', 'Population growth (annual %)',\n",
    "       'Life expectancy at birth, total (years)',\n",
    "       'Mortality rate, infant (per 1,000 live births)']]\n"
   ]
  },
  {
   "cell_type": "markdown",
   "metadata": {},
   "source": [
    "## population in five years span"
   ]
  },
  {
   "cell_type": "code",
   "execution_count": null,
   "metadata": {},
   "outputs": [],
   "source": [
    "import pandas as pd\n",
    "import matplotlib.pyplot as plt\n",
    "\n",
    "# Correct column name for unemployment\n",
    "pop_column = 'Population, total'\n",
    "\n",
    "# Create 5-year intervals\n",
    "filtered_data['Interval'] = pd.cut(\n",
    "    filtered_data['Year'],\n",
    "    bins=[2000, 2005, 2010, 2015, 2020, 2023],  # Adjust bins as needed\n",
    "    labels=['2000-2005', '2006-2010', '2011-2015', '2016-2020', '2021-2023'],\n",
    "    right=True\n",
    ")\n",
    "\n",
    "# Threshold for outlier exclusion (e.g., max reasonable unemployment rate)\n",
    "outlier_threshold = 20\n",
    "\n",
    "# Replace outliers in Pakistan's unemployment data with NaN\n",
    "filtered_data.loc[\n",
    "    (filtered_data['Country'] == 'Pakistan') & \n",
    "    (filtered_data[pop_column] > outlier_threshold), \n",
    "    pop_column\n",
    "] = None\n",
    "\n",
    "avg_pop = filtered_data.groupby(['Country', 'Interval'])[pop_column].mean().reset_index()\n",
    "\n",
    "pivot_data = avg_pop.pivot(index='Interval', columns='Country', values=pop_column)\n",
    "\n",
    "pivot_data.plot(kind='bar', figsize=(12, 8), width=0.8)\n",
    "plt.title('population (2000-2023)', fontsize=14)\n",
    "plt.xlabel('Interval', fontsize=12)\n",
    "plt.ylabel('population avergae', fontsize=12)\n",
    "plt.legend(title='Country', bbox_to_anchor=(1.05, 1), loc='upper left')\n",
    "plt.xticks(rotation=0)\n",
    "plt.tight_layout()\n",
    "plt.show()\n"
   ]
  },
  {
   "cell_type": "markdown",
   "metadata": {},
   "source": [
    "## unemployement"
   ]
  },
  {
   "cell_type": "code",
   "execution_count": null,
   "metadata": {},
   "outputs": [],
   "source": [
    "import pandas as pd\n",
    "import matplotlib.pyplot as plt\n",
    "\n",
    "# Correct column name for unemployment\n",
    "unemployment_column = 'Unemployment, total (% of total labor force) (modeled ILO estimate)'\n",
    "\n",
    "# Create 5-year intervals\n",
    "filtered_data['Interval'] = pd.cut(\n",
    "    filtered_data['Year'],\n",
    "    bins=[2000, 2005, 2010, 2015, 2020, 2023],  # Adjust bins as needed\n",
    "    labels=['2000-2005', '2006-2010', '2011-2015', '2016-2020', '2021-2023'],\n",
    "    right=True\n",
    ")\n",
    "\n",
    "# Threshold for outlier exclusion (e.g., max reasonable unemployment rate)\n",
    "outlier_threshold = 20\n",
    "\n",
    "# Replace outliers in Pakistan's unemployment data with NaN\n",
    "filtered_data.loc[\n",
    "    (filtered_data['Country'] == 'Pakistan') & \n",
    "    (filtered_data[unemployment_column] > outlier_threshold), \n",
    "    unemployment_column\n",
    "] = None\n",
    "\n",
    "# Recalculate average unemployment rates for each 5-year interval\n",
    "avg_unemployment = filtered_data.groupby(['Country', 'Interval'])[unemployment_column].mean().reset_index()\n",
    "\n",
    "# Pivot data for visualization\n",
    "pivot_data = avg_unemployment.pivot(index='Interval', columns='Country', values=unemployment_column)\n",
    "\n",
    "# Plot the data\n",
    "pivot_data.plot(kind='bar', figsize=(12, 8), width=0.8)\n",
    "plt.title('Average Unemployment Rate (2000-2023)', fontsize=14)\n",
    "plt.xlabel('Interval', fontsize=12)\n",
    "plt.ylabel('Average Unemployment Rate (%)', fontsize=12)\n",
    "plt.legend(title='Country', bbox_to_anchor=(1.05, 1), loc='upper left')\n",
    "plt.xticks(rotation=0)\n",
    "plt.tight_layout()\n",
    "plt.show()\n"
   ]
  },
  {
   "cell_type": "markdown",
   "metadata": {},
   "source": [
    "## mortality rate"
   ]
  },
  {
   "cell_type": "code",
   "execution_count": null,
   "metadata": {},
   "outputs": [],
   "source": [
    "import pandas as pd\n",
    "import matplotlib.pyplot as plt\n",
    "\n",
    "# Correct column name for mortality rate\n",
    "mortality_column = 'Mortality rate, infant (per 1,000 live births)'\n",
    "\n",
    "# Create 5-year intervals\n",
    "filtered_data['Interval'] = pd.cut(\n",
    "    filtered_data['Year'],\n",
    "    bins=[2000, 2005, 2010, 2015, 2020, 2023],  # Adjust bins as needed\n",
    "    labels=['2000-2005', '2006-2010', '2011-2015', '2016-2020', '2021-2023'],\n",
    "    right=True\n",
    ")\n",
    "\n",
    "# Threshold for outlier exclusion (e.g., max reasonable mortality rate)\n",
    "outlier_threshold = 100  # Adjust threshold as appropriate for mortality rates\n",
    "\n",
    "# Replace outliers in Pakistan's mortality rate data with NaN\n",
    "filtered_data.loc[\n",
    "    (filtered_data['Country'] == 'Pakistan') & \n",
    "    (filtered_data[mortality_column] > outlier_threshold), \n",
    "    mortality_column\n",
    "] = None\n",
    "\n",
    "# Recalculate average mortality rates for each 5-year interval\n",
    "avg_mortality = filtered_data.groupby(['Country', 'Interval'])[mortality_column].mean().reset_index()\n",
    "\n",
    "# Pivot data for visualization\n",
    "pivot_data = avg_mortality.pivot(index='Interval', columns='Country', values=mortality_column)\n",
    "\n",
    "# Plot the data\n",
    "pivot_data.plot(kind='bar', figsize=(12, 8), width=0.8)\n",
    "plt.title('Average Infant Mortality Rate (2000-2023)', fontsize=14)\n",
    "plt.xlabel('Interval', fontsize=12)\n",
    "plt.ylabel('Average Infant Mortality Rate (per 1,000 live births)', fontsize=12)\n",
    "plt.legend(title='Country', bbox_to_anchor=(1.05, 1), loc='upper left')\n",
    "plt.xticks(rotation=0)\n",
    "plt.tight_layout()\n",
    "plt.show()\n"
   ]
  },
  {
   "cell_type": "markdown",
   "metadata": {},
   "source": [
    "## GDP per capita"
   ]
  },
  {
   "cell_type": "code",
   "execution_count": null,
   "metadata": {},
   "outputs": [],
   "source": [
    "import pandas as pd\n",
    "import matplotlib.pyplot as plt\n",
    "\n",
    "gdp_column = 'GDP per capita (current US$)'\n",
    "\n",
    "# Create 5-year intervals\n",
    "filtered_data['Interval'] = pd.cut(\n",
    "    filtered_data['Year'],\n",
    "    bins=[2000, 2005, 2010, 2015, 2020, 2023],  # Adjust bins as needed\n",
    "    labels=['2000-2005', '2006-2010', '2011-2015', '2016-2020', '2021-2023'],\n",
    "    right=True\n",
    ")\n",
    "\n",
    "outlier_threshold = 20\n",
    "\n",
    "filtered_data.loc[\n",
    "    (filtered_data['Country'] == 'Pakistan') & \n",
    "    (filtered_data[gdp_column] > outlier_threshold), \n",
    "    gdp_column\n",
    "] = None\n",
    "\n",
    "avg_pop = filtered_data.groupby(['Country', 'Interval'])[gdp_column].mean().reset_index()\n",
    "\n",
    "pivot_data = avg_pop.pivot(index='Interval', columns='Country', values=gdp_column)\n",
    "\n",
    "pivot_data.plot(kind='bar', figsize=(12, 8), width=0.8)\n",
    "plt.title('gdp (2000-2023)', fontsize=14)\n",
    "plt.xlabel('Interval', fontsize=12)\n",
    "plt.ylabel(' gdp per capita avergae', fontsize=12)\n",
    "plt.legend(title='Country', bbox_to_anchor=(1.05, 1), loc='upper left')\n",
    "plt.xticks(rotation=0)\n",
    "plt.tight_layout()\n",
    "plt.show()\n"
   ]
  },
  {
   "cell_type": "markdown",
   "metadata": {},
   "source": [
    "## life expectancy "
   ]
  },
  {
   "cell_type": "code",
   "execution_count": null,
   "metadata": {},
   "outputs": [],
   "source": [
    "import pandas as pd\n",
    "import matplotlib.pyplot as plt\n",
    "\n",
    "life_column = 'Life expectancy at birth, total (years)'\n",
    "\n",
    "# Create 5-year intervals\n",
    "filtered_data['Interval'] = pd.cut(\n",
    "    filtered_data['Year'],\n",
    "    bins=[2000, 2005, 2010, 2015, 2020, 2023],  # Adjust bins as needed\n",
    "    labels=['2000-2005', '2006-2010', '2011-2015', '2016-2020', '2021-2023'],\n",
    "    right=True\n",
    ")\n",
    "\n",
    "outlier_threshold = 20\n",
    "\n",
    "filtered_data.loc[\n",
    "    (filtered_data['Country'] == 'Pakistan') & \n",
    "    (filtered_data[life_column] > outlier_threshold), \n",
    "    life_column\n",
    "] = None\n",
    "\n",
    "avg_pop = filtered_data.groupby(['Country', 'Interval'])[life_column].mean().reset_index()\n",
    "\n",
    "pivot_data = avg_pop.pivot(index='Interval', columns='Country', values=life_column)\n",
    "\n",
    "pivot_data.plot(kind='bar', figsize=(12, 8), width=0.8)\n",
    "plt.title('gdp (2000-2023)', fontsize=14)\n",
    "plt.xlabel('Interval', fontsize=12)\n",
    "plt.ylabel(' life expectancy  avergae', fontsize=12)\n",
    "plt.legend(title='Country', bbox_to_anchor=(1.05, 1), loc='upper left')\n",
    "plt.xticks(rotation=0)\n",
    "plt.tight_layout()\n",
    "plt.show()\n"
   ]
  },
  {
   "cell_type": "markdown",
   "metadata": {},
   "source": [
    "## machine learning model"
   ]
  },
  {
   "cell_type": "code",
   "execution_count": null,
   "metadata": {},
   "outputs": [],
   "source": [
    "import pandas as pd\n",
    "from sklearn.preprocessing import OneHotEncoder\n",
    "from sklearn.ensemble import RandomForestClassifier\n",
    "\n",
    "# 1. Load your dataset (replace with the correct path to your CSV file)\n",
    "data_f = pd.read_csv('archive/South_Asian_dataset.csv')  # Ensure to replace with your actual dataset file path\n",
    "\n",
    "# 2. Handle missing values - fill missing numeric columns with the median\n",
    "numeric_cols = data_f.select_dtypes(include=['number']).columns  # Select only numeric columns\n",
    "data_f[numeric_cols] = data_f[numeric_cols].fillna(data_f[numeric_cols].median())  # Fill missing values with median\n",
    "\n",
    "# 3. One-hot encode categorical columns (e.g., 'Country')\n",
    "encoder = OneHotEncoder(sparse_output=False, handle_unknown='ignore')  # Correct argument is 'sparse_output'\n",
    "encoded_country = encoder.fit_transform(data_f[['Country']])  # Apply the encoder to the 'Country' column\n",
    "\n",
    "# Convert the encoded columns into a DataFrame\n",
    "encoded_country_df = pd.DataFrame(encoded_country, columns=encoder.get_feature_names_out(['Country']))\n",
    "\n",
    "# 4. Drop the original 'Country' column and add the one-hot encoded columns\n",
    "data_f = data_f.drop(columns=['Country'])  # Drop the 'Country' column\n",
    "data_f = pd.concat([data_f, encoded_country_df], axis=1)  # Concatenate the encoded columns\n",
    "\n",
    "# 5. Train a machine learning model (RandomForest in this case)\n",
    "X = data_f.drop('Target', axis=1)  # Features (replace 'Target' with your actual target column name)\n",
    "y = data_f['Target']  # Target variable (replace 'Target' with your actual target column name)\n",
    "\n",
    "# Train the model\n",
    "model = RandomForestClassifier()\n",
    "model.fit(X, y)\n",
    "\n",
    "# Now you can use the trained model to make predictions or further evaluation.\n"
   ]
  },
  {
   "cell_type": "code",
   "execution_count": null,
   "metadata": {},
   "outputs": [],
   "source": []
  },
  {
   "cell_type": "code",
   "execution_count": 65,
   "metadata": {},
   "outputs": [],
   "source": []
  },
  {
   "cell_type": "code",
   "execution_count": 64,
   "metadata": {},
   "outputs": [
    {
     "name": "stdout",
     "output_type": "stream",
     "text": [
      "Index(['Country', 'Year', 'GDP (current US$)', 'GDP growth (annual %)',\n",
      "       'GDP per capita (current US$)',\n",
      "       'Unemployment, total (% of total labor force) (modeled ILO estimate)',\n",
      "       'Population, total', 'Population growth (annual %)',\n",
      "       'Life expectancy at birth, total (years)',\n",
      "       'Mortality rate, infant (per 1,000 live births)', 'Unnamed: 10',\n",
      "       'Unnamed: 11'],\n",
      "      dtype='object')\n"
     ]
    }
   ],
   "source": [
    "print(data.columns)\n"
   ]
  },
  {
   "cell_type": "code",
   "execution_count": 66,
   "metadata": {},
   "outputs": [
    {
     "name": "stdout",
     "output_type": "stream",
     "text": [
      "Index(['Country', 'Year', 'GDP (current US$)', 'GDP growth (annual %)',\n",
      "       'GDP per capita (current US$)',\n",
      "       'Unemployment, total (% of total labor force) (modeled ILO estimate)',\n",
      "       'Population, total', 'Population growth (annual %)',\n",
      "       'Life expectancy at birth, total (years)',\n",
      "       'Mortality rate, infant (per 1,000 live births)'],\n",
      "      dtype='object')\n"
     ]
    }
   ],
   "source": [
    "print(filtered_data.columns)\n"
   ]
  }
 ],
 "metadata": {
  "kernelspec": {
   "display_name": "Python 3",
   "language": "python",
   "name": "python3"
  },
  "language_info": {
   "codemirror_mode": {
    "name": "ipython",
    "version": 3
   },
   "file_extension": ".py",
   "mimetype": "text/x-python",
   "name": "python",
   "nbconvert_exporter": "python",
   "pygments_lexer": "ipython3",
   "version": "3.13.0"
  }
 },
 "nbformat": 4,
 "nbformat_minor": 2
}
