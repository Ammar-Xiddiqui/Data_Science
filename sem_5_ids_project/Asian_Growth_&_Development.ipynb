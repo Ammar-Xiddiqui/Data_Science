{
 "cells": [
  {
   "cell_type": "markdown",
   "metadata": {},
   "source": [
    "# Growth and Challenges\n",
    "### A Deep Dive into South Asian Development"
   ]
  },
  {
   "cell_type": "markdown",
   "metadata": {},
   "source": [
    "# EDA "
   ]
  },
  {
   "cell_type": "code",
   "execution_count": 4,
   "metadata": {},
   "outputs": [],
   "source": [
    "import pandas as pd\n",
    "import matplotlib.pyplot as plt\n",
    "import seaborn as sn\n"
   ]
  },
  {
   "cell_type": "markdown",
   "metadata": {},
   "source": [
    "#### Connect to file"
   ]
  },
  {
   "cell_type": "code",
   "execution_count": null,
   "metadata": {},
   "outputs": [],
   "source": [
    "\n",
    "data=pd.read_csv('archive/South_Asian_dataset.csv')\n",
    "data.head()"
   ]
  },
  {
   "cell_type": "code",
   "execution_count": 11,
   "metadata": {},
   "outputs": [
    {
     "name": "stdout",
     "output_type": "stream",
     "text": [
      "<class 'pandas.core.frame.DataFrame'>\n",
      "RangeIndex: 199 entries, 0 to 198\n",
      "Data columns (total 13 columns):\n",
      " #   Column                                                               Non-Null Count  Dtype  \n",
      "---  ------                                                               --------------  -----  \n",
      " 0   Country                                                              192 non-null    object \n",
      " 1   Year                                                                 192 non-null    float64\n",
      " 2   GDP (current US$)                                                    192 non-null    object \n",
      " 3   GDP growth (annual %)                                                192 non-null    object \n",
      " 4   GDP per capita (current US$)                                         192 non-null    object \n",
      " 5   Unemployment, total (% of total labor force) (modeled ILO estimate)  192 non-null    float64\n",
      " 6   Population, total                                                    192 non-null    float64\n",
      " 7   Population growth (annual %)                                         192 non-null    object \n",
      " 8   Life expectancy at birth, total (years)                              192 non-null    float64\n",
      " 9   Mortality rate, infant (per 1,000 live births)                       192 non-null    float64\n",
      " 10  Unnamed: 10                                                          0 non-null      float64\n",
      " 11  Unnamed: 11                                                          0 non-null      float64\n",
      " 12  Unnamed: 12                                                          0 non-null      float64\n",
      "dtypes: float64(8), object(5)\n",
      "memory usage: 20.3+ KB\n"
     ]
    }
   ],
   "source": [
    "data.info()"
   ]
  },
  {
   "cell_type": "code",
   "execution_count": null,
   "metadata": {},
   "outputs": [],
   "source": [
    "data = data.drop(columns=['Unnamed: 10', 'Unnamed: 11', 'Unnamed: 12'])\n"
   ]
  },
  {
   "cell_type": "code",
   "execution_count": 14,
   "metadata": {},
   "outputs": [
    {
     "name": "stdout",
     "output_type": "stream",
     "text": [
      "<class 'pandas.core.frame.DataFrame'>\n",
      "RangeIndex: 199 entries, 0 to 198\n",
      "Data columns (total 10 columns):\n",
      " #   Column                                                               Non-Null Count  Dtype  \n",
      "---  ------                                                               --------------  -----  \n",
      " 0   Country                                                              192 non-null    object \n",
      " 1   Year                                                                 192 non-null    float64\n",
      " 2   GDP (current US$)                                                    192 non-null    object \n",
      " 3   GDP growth (annual %)                                                192 non-null    object \n",
      " 4   GDP per capita (current US$)                                         192 non-null    object \n",
      " 5   Unemployment, total (% of total labor force) (modeled ILO estimate)  192 non-null    float64\n",
      " 6   Population, total                                                    192 non-null    float64\n",
      " 7   Population growth (annual %)                                         192 non-null    object \n",
      " 8   Life expectancy at birth, total (years)                              192 non-null    float64\n",
      " 9   Mortality rate, infant (per 1,000 live births)                       192 non-null    float64\n",
      "dtypes: float64(5), object(5)\n",
      "memory usage: 15.7+ KB\n"
     ]
    }
   ],
   "source": [
    "data.info()"
   ]
  }
 ],
 "metadata": {
  "kernelspec": {
   "display_name": "Python 3",
   "language": "python",
   "name": "python3"
  },
  "language_info": {
   "codemirror_mode": {
    "name": "ipython",
    "version": 3
   },
   "file_extension": ".py",
   "mimetype": "text/x-python",
   "name": "python",
   "nbconvert_exporter": "python",
   "pygments_lexer": "ipython3",
   "version": "3.13.0"
  }
 },
 "nbformat": 4,
 "nbformat_minor": 2
}
